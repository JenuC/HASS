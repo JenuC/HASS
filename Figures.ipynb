{
 "cells": [
  {
   "cell_type": "code",
   "execution_count": 3,
   "metadata": {},
   "outputs": [],
   "source": [
    "import os\n",
    "import h5py\n",
    "import glob\n",
    "import pathlib"
   ]
  },
  {
   "cell_type": "code",
   "execution_count": 5,
   "metadata": {},
   "outputs": [],
   "source": [
    "datafile = r'C:\\Users\\jenuv\\OneDrive - UW-Madison\\Projects\\Sparse_Fluroescence_Spectra\\Data_20191007_\\data.h5'"
   ]
  },
  {
   "cell_type": "code",
   "execution_count": 6,
   "metadata": {},
   "outputs": [],
   "source": [
    "data_filepath = pathlib.Path(datafile)"
   ]
  },
  {
   "cell_type": "code",
   "execution_count": 7,
   "metadata": {},
   "outputs": [],
   "source": [
    "filename = data_filepath\n",
    "original = h5py.File(filename,'r')"
   ]
  },
  {
   "cell_type": "code",
   "execution_count": 21,
   "metadata": {},
   "outputs": [],
   "source": [
    "import numpy as np\n",
    "def gini(array):\n",
    "    #Taken from https://github.com/oliviaguest/gini/blob/master/gini.py\n",
    "    \"\"\"Calculate the Gini coefficient of a numpy array.\"\"\"\n",
    "    # All values are treated equally, arrays must be 1d:\n",
    "    array = array.flatten()\n",
    "    if np.amin(array) < 0:\n",
    "        # Values cannot be negative:\n",
    "        array -= np.amin(array)\n",
    "    # Values cannot be 0:\n",
    "    array += 0.0000001\n",
    "    # Values must be sorted:\n",
    "    array = np.sort(array)\n",
    "    # Index per array element:\n",
    "    index = np.arange(1,array.shape[0]+1)\n",
    "    # Number of array elements:\n",
    "    n = array.shape[0]\n",
    "    # Gini coefficient:\n",
    "    return ((np.sum((2 * index - n  - 1) * array)) / (n * np.sum(array)))\n",
    "\n",
    "def gini2(x):\n",
    "    #https://stackoverflow.com/questions/39512260/calculating-gini-coefficient-in-python-numpy\n",
    "\n",
    "    # (Warning: This is a concise implementation, but it is O(n**2)\n",
    "    # in time and memory, where n = len(x).  *Don't* pass in huge\n",
    "    # samples!)\n",
    "\n",
    "    # Mean absolute difference\n",
    "    mad = np.abs(np.subtract.outer(x, x)).mean()\n",
    "    # Relative mean absolute difference\n",
    "    rmad = mad/np.mean(x)\n",
    "    # Gini coefficient\n",
    "    g = 0.5 * rmad\n",
    "    return g"
   ]
  },
  {
   "cell_type": "code",
   "execution_count": null,
   "metadata": {},
   "outputs": [
    {
     "name": "stdout",
     "output_type": "stream",
     "text": [
      "0 <built-in method sum of numpy.ndarray object at 0x0000017AE72042D0> 16777216\n",
      "1 <built-in method sum of numpy.ndarray object at 0x0000017AE72DE790> 16777216\n",
      "2 <built-in method sum of numpy.ndarray object at 0x0000017AE72042D0> 16777216\n",
      "3 <built-in method sum of numpy.ndarray object at 0x0000017AE72DE190> 16777216\n",
      "4 <built-in method sum of numpy.ndarray object at 0x0000017AE72042D0> 16777216\n",
      "5 <built-in method sum of numpy.ndarray object at 0x0000017AE72DE7F0> 16777216\n",
      "6 <built-in method sum of numpy.ndarray object at 0x0000017AE72042D0> 16777216\n",
      "7 <built-in method sum of numpy.ndarray object at 0x0000017AE72DE790> 16777216\n",
      "8 <built-in method sum of numpy.ndarray object at 0x0000017AE72042D0> 16777216\n",
      "9 <built-in method sum of numpy.ndarray object at 0x0000017AE72DE7F0> 16777216\n",
      "10 <built-in method sum of numpy.ndarray object at 0x0000017AE72042D0> 16777216\n"
     ]
    }
   ],
   "source": [
    "for ix,key in enumerate(original.keys()):\n",
    "    arr = original[key][()]\n",
    "    print(ix, f'{arr.sum()/arr.size:.3f}%')\n",
    "    if ix==10:\n",
    "        break"
   ]
  },
  {
   "cell_type": "code",
   "execution_count": null,
   "metadata": {},
   "outputs": [],
   "source": [
    "gini2(arr[0,:,:].ravel())"
   ]
  },
  {
   "cell_type": "code",
   "execution_count": 20,
   "metadata": {},
   "outputs": [
    {
     "data": {
      "text/plain": [
       "(256, 256, 256)"
      ]
     },
     "execution_count": 20,
     "metadata": {},
     "output_type": "execute_result"
    }
   ],
   "source": [
    "arr.shape\n",
    "#gini2(arr)"
   ]
  },
  {
   "cell_type": "markdown",
   "metadata": {},
   "source": [
    "## \n",
    "\n",
    "\n"
   ]
  },
  {
   "cell_type": "code",
   "execution_count": null,
   "metadata": {},
   "outputs": [],
   "source": []
  }
 ],
 "metadata": {
  "kernelspec": {
   "display_name": "hass",
   "language": "python",
   "name": "python3"
  },
  "language_info": {
   "codemirror_mode": {
    "name": "ipython",
    "version": 3
   },
   "file_extension": ".py",
   "mimetype": "text/x-python",
   "name": "python",
   "nbconvert_exporter": "python",
   "pygments_lexer": "ipython3",
   "version": "3.10.10"
  }
 },
 "nbformat": 4,
 "nbformat_minor": 2
}
